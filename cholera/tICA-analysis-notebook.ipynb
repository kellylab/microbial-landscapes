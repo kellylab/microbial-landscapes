{
 "cells": [
  {
   "cell_type": "markdown",
   "metadata": {},
   "source": [
    "Be sure to install the dependencies:\n",
    "```bash\n",
    "conda install --yes msmbuilder pandas matplotlib seaborn scikit-learn\n",
    "```\n",
    "`msmbuilder` was just updated on 19 Oct 2016, so you might want to reinstall:\n",
    "```bash\n",
    "conda uninstall --yes scikit-learn msmbuilder\n",
    "conda clean -pltis --yes\n",
    "conda install --yes msmbuilder\n",
    "```"
   ]
  },
  {
   "cell_type": "code",
   "execution_count": 1,
   "metadata": {
    "collapsed": true
   },
   "outputs": [],
   "source": [
    "%matplotlib inline"
   ]
  },
  {
   "cell_type": "code",
   "execution_count": 2,
   "metadata": {
    "collapsed": false
   },
   "outputs": [
    {
     "name": "stderr",
     "output_type": "stream",
     "text": [
      "/Users/choderaj/miniconda/lib/python2.7/site-packages/matplotlib/__init__.py:1357: UserWarning:  This call to matplotlib.use() has no effect\n",
      "because the backend has already been chosen;\n",
      "matplotlib.use() must be called *before* pylab, matplotlib.pyplot,\n",
      "or matplotlib.backends is imported for the first time.\n",
      "\n",
      "  warnings.warn(_use_error_msg)\n"
     ]
    }
   ],
   "source": [
    "import matplotlib as mpl\n",
    "mpl.use('Agg')\n",
    "from matplotlib.backends.backend_pdf import PdfPages\n",
    "import matplotlib.pyplot as plt\n",
    "import seaborn\n",
    "\n",
    "import numpy as np\n",
    "import pandas as pd"
   ]
  },
  {
   "cell_type": "code",
   "execution_count": 25,
   "metadata": {
    "collapsed": true
   },
   "outputs": [],
   "source": [
    "def read_patient_data(patient):\n",
    "    filename = '%s_gordon.taxa_count.sorted.txt' % patient\n",
    "\n",
    "    # Load data\n",
    "    df = pd.read_table(filename, delim_whitespace=True)\n",
    "\n",
    "    # Extract sorted sample labels\n",
    "    samples = list(df.index)\n",
    "    nsamples = len(samples)\n",
    "\n",
    "    # Extract feature names\n",
    "    features = list(df.columns)\n",
    "    nfeatures = len(features)\n",
    "\n",
    "    # Extract feature vectors\n",
    "    patient_timeseries = df.as_matrix()\n",
    "\n",
    "    return [samples, features, patient_timeseries]"
   ]
  },
  {
   "cell_type": "code",
   "execution_count": 36,
   "metadata": {
    "collapsed": false
   },
   "outputs": [
    {
     "name": "stdout",
     "output_type": "stream",
     "text": [
      "Projecting all patient data...\n",
      "Making figures...\n"
     ]
    },
    {
     "data": {
      "image/png": "[encoded data removed]",
      "text/plain": [
       "<matplotlib.figure.Figure at 0x11e049450>"
      ]
     },
     "metadata": {},
     "output_type": "display_data"
    }
   ],
   "source": [
    "#\n",
    "# Analyze\n",
    "#\n",
    "\n",
    "import msmbuilder.cluster\n",
    "import msmbuilder.hmm\n",
    "import sklearn.cluster\n",
    "from msmbuilder.decomposition import tICA\n",
    "\n",
    "n_components = 2 # number of dimensions to retain\n",
    "lag_time = 1 # lag time (in sampling intervals)\n",
    "\n",
    "#\n",
    "# Perform tICA clustering on each depth separately\n",
    "#\n",
    "\n",
    "# Get colormap\n",
    "from matplotlib.pyplot import cm\n",
    "\n",
    "# Construct a tICA projection from all data.\n",
    "print('Projecting all patient data...')\n",
    "patients = ['A', 'B', 'C', 'D', 'E', 'F', 'G']\n",
    "data = list()\n",
    "for (subplot_index, patient) in enumerate(patients):\n",
    "    # Load patient data\n",
    "    [samples, features, patient_timeseries] = read_patient_data(patient)\n",
    "    data.append(patient_timeseries)\n",
    "    nsamples = len(samples)\n",
    "    nfeatures = len(features)\n",
    "# Create tICA projection and retrieve projected data\n",
    "tica = tICA(n_components=n_components, lag_time=lag_time)\n",
    "projected_data = tica.fit_transform(data)\n",
    "\n",
    "# Make plots\n",
    "print('Making figures...')\n",
    "fig = plt.figure(figsize=[3.5,3.5])\n",
    "subplot_nx = 2\n",
    "subplot_ny = 2\n",
    "fontsize=6\n",
    "patient_indices_to_plot = [0, 1, 5, 6]\n",
    "for (plot_index, patient_index) in enumerate(patient_indices_to_plot):    \n",
    "    patient = patients[patient_index]\n",
    "    plot_column = plot_index % subplot_ny\n",
    "    plot_row = plot_index / subplot_ny\n",
    "    \n",
    "    # Load patient data\n",
    "    [samples, features, patient_timeseries] = read_patient_data(patient)\n",
    "    nsamples = len(samples)\n",
    "    nfeatures = len(features)\n",
    "    projection = projected_data[patient_index]\n",
    "    cmap = cm.rainbow(np.linspace(0,1,nsamples))\n",
    "    \n",
    "    ax = plt.subplot(subplot_ny, subplot_nx, plot_index+1)\n",
    "    ax.set_color_cycle(cmap)\n",
    "        \n",
    "    # Compute tICA projection\n",
    "    # NOTE: This sometimes failes because of missing values, so this is in a try...except clause\n",
    "    #tica = tICA(n_components=n_components, lag_time=lag_time)\n",
    "    #projection = tica.fit_transform([patient_timeseries])\n",
    "    \n",
    "    # Print eigenvalues\n",
    "    #print('eigenvalues:')\n",
    "    #print tica.eigenvalues_\n",
    "    #projection = projection[0] # select out only trajectory\n",
    "\n",
    "    # Plot with time-varying color\n",
    "    projection = projected_data[patient_index]\n",
    "    ax.plot(projection[0,0], projection[0,1], 'v', markersize=5);\n",
    "    for i in range(nsamples-1):\n",
    "        ax.plot(projection[i:i+2,0], projection[i:i+2,1], 'o-', markersize=3, linewidth=0.5);\n",
    "    \n",
    "    # Title subplot\n",
    "    #plt.title('patient %s' % patient, fontsize=fontsize)\n",
    "\n",
    "    # Fix up axes.\n",
    "    if plot_column == 0:\n",
    "        plt.ylabel('tIC 2', fontsize=fontsize)\n",
    "    if plot_row == (subplot_ny-1):\n",
    "        plt.xlabel('tIC 1', fontsize=fontsize)\n",
    "    plt.xticks([])\n",
    "    plt.yticks([])\n",
    "\n",
    "    plt.axis('square')\n",
    "    plt.axis([-2, +2, -2, +2])\n",
    "    ax.text(-1.9, +1.5,  patient, fontsize=12, fontweight='bold')\n",
    "\n",
    "plt.tight_layout()\n",
    "plt.savefig('panel.pdf')"
   ]
  },
  {
   "cell_type": "code",
   "execution_count": null,
   "metadata": {
    "collapsed": true
   },
   "outputs": [],
   "source": []
  },
  {
   "cell_type": "code",
   "execution_count": null,
   "metadata": {
    "collapsed": true
   },
   "outputs": [],
   "source": []
  }
 ],
 "metadata": {
  "kernelspec": {
   "display_name": "Python 2",
   "language": "python",
   "name": "python2"
  },
  "language_info": {
   "codemirror_mode": {
    "name": "ipython",
    "version": 2
   },
   "file_extension": ".py",
   "mimetype": "text/x-python",
   "name": "python",
   "nbconvert_exporter": "python",
   "pygments_lexer": "ipython2",
   "version": "2.7.12"
  }
 },
 "nbformat": 4,
 "nbformat_minor": 0
}
